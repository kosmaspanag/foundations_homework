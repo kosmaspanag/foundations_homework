{
 "cells": [
  {
   "cell_type": "code",
   "execution_count": 1,
   "metadata": {},
   "outputs": [
    {
     "name": "stdout",
     "output_type": "stream",
     "text": [
      "Testing API to pandas.ipynb \u001b[34mneiss\u001b[m\u001b[m\r\n",
      "Untitled.ipynb              \u001b[34mpotholes\u001b[m\u001b[m\r\n",
      "\u001b[34mcrypto\u001b[m\u001b[m                      \u001b[34mwafflehouses\u001b[m\u001b[m\r\n"
     ]
    }
   ],
   "source": [
    "!ls"
   ]
  },
  {
   "cell_type": "code",
   "execution_count": 2,
   "metadata": {},
   "outputs": [],
   "source": [
    "import pandas as pd\n",
    "\n",
    "%matplotlib inline"
   ]
  },
  {
   "cell_type": "code",
   "execution_count": 4,
   "metadata": {},
   "outputs": [
    {
     "data": {
      "text/html": [
       "<div>\n",
       "<style scoped>\n",
       "    .dataframe tbody tr th:only-of-type {\n",
       "        vertical-align: middle;\n",
       "    }\n",
       "\n",
       "    .dataframe tbody tr th {\n",
       "        vertical-align: top;\n",
       "    }\n",
       "\n",
       "    .dataframe thead th {\n",
       "        text-align: right;\n",
       "    }\n",
       "</style>\n",
       "<table border=\"1\" class=\"dataframe\">\n",
       "  <thead>\n",
       "    <tr style=\"text-align: right;\">\n",
       "      <th></th>\n",
       "      <th>A</th>\n",
       "      <th>Street</th>\n",
       "      <th>EnterDt</th>\n",
       "      <th>PrintDt</th>\n",
       "      <th>ResolvDt</th>\n",
       "    </tr>\n",
       "  </thead>\n",
       "  <tbody>\n",
       "    <tr>\n",
       "      <th>0</th>\n",
       "      <td>7741</td>\n",
       "      <td>N 59TH ST</td>\n",
       "      <td>2017-07-15 08:55</td>\n",
       "      <td>2017-07-17 05:33</td>\n",
       "      <td>2017-07-21 04:51</td>\n",
       "    </tr>\n",
       "    <tr>\n",
       "      <th>1</th>\n",
       "      <td>5517</td>\n",
       "      <td>N 39TH ST</td>\n",
       "      <td>2017-07-14 22:36</td>\n",
       "      <td>2017-07-17 05:33</td>\n",
       "      <td>2017-07-25 15:29</td>\n",
       "    </tr>\n",
       "    <tr>\n",
       "      <th>2</th>\n",
       "      <td>8242</td>\n",
       "      <td>N GRANVILLE RD</td>\n",
       "      <td>2017-07-14 18:30</td>\n",
       "      <td>2017-07-17 05:33</td>\n",
       "      <td>2017-07-17 06:55</td>\n",
       "    </tr>\n",
       "    <tr>\n",
       "      <th>3</th>\n",
       "      <td>3364</td>\n",
       "      <td>W LAKEFIELD DR</td>\n",
       "      <td>2017-07-14 16:35</td>\n",
       "      <td>2017-07-17 05:22</td>\n",
       "      <td>2017-07-18 05:47</td>\n",
       "    </tr>\n",
       "    <tr>\n",
       "      <th>4</th>\n",
       "      <td>10700</td>\n",
       "      <td>W GOOD HOPE RD</td>\n",
       "      <td>2017-07-14 15:18</td>\n",
       "      <td>2017-07-17 05:33</td>\n",
       "      <td>2017-07-21 04:58</td>\n",
       "    </tr>\n",
       "  </tbody>\n",
       "</table>\n",
       "</div>"
      ],
      "text/plain": [
       "       A          Street           EnterDt           PrintDt          ResolvDt\n",
       "0   7741       N 59TH ST  2017-07-15 08:55  2017-07-17 05:33  2017-07-21 04:51\n",
       "1   5517       N 39TH ST  2017-07-14 22:36  2017-07-17 05:33  2017-07-25 15:29\n",
       "2   8242  N GRANVILLE RD  2017-07-14 18:30  2017-07-17 05:33  2017-07-17 06:55\n",
       "3   3364  W LAKEFIELD DR  2017-07-14 16:35  2017-07-17 05:22  2017-07-18 05:47\n",
       "4  10700  W GOOD HOPE RD  2017-07-14 15:18  2017-07-17 05:33  2017-07-21 04:58"
      ]
     },
     "execution_count": 4,
     "metadata": {},
     "output_type": "execute_result"
    }
   ],
   "source": [
    "df = pd.read_excel(\"/Users/kosmas/Downloads/LEDE_Programm/Python/06-classwork/potholes/2007-2017 POTHOLE.xls\")\n",
    "df.head()"
   ]
  },
  {
   "cell_type": "code",
   "execution_count": 6,
   "metadata": {},
   "outputs": [
    {
     "data": {
      "text/plain": [
       "(65535, 5)"
      ]
     },
     "execution_count": 6,
     "metadata": {},
     "output_type": "execute_result"
    }
   ],
   "source": [
    "df.shape"
   ]
  },
  {
   "cell_type": "code",
   "execution_count": 7,
   "metadata": {},
   "outputs": [
    {
     "data": {
      "text/plain": [
       "A            int64\n",
       "Street      object\n",
       "EnterDt     object\n",
       "PrintDt     object\n",
       "ResolvDt    object\n",
       "dtype: object"
      ]
     },
     "execution_count": 7,
     "metadata": {},
     "output_type": "execute_result"
    }
   ],
   "source": [
    "df.dtypes"
   ]
  },
  {
   "cell_type": "code",
   "execution_count": 8,
   "metadata": {},
   "outputs": [
    {
     "data": {
      "text/html": [
       "<div>\n",
       "<style scoped>\n",
       "    .dataframe tbody tr th:only-of-type {\n",
       "        vertical-align: middle;\n",
       "    }\n",
       "\n",
       "    .dataframe tbody tr th {\n",
       "        vertical-align: top;\n",
       "    }\n",
       "\n",
       "    .dataframe thead th {\n",
       "        text-align: right;\n",
       "    }\n",
       "</style>\n",
       "<table border=\"1\" class=\"dataframe\">\n",
       "  <thead>\n",
       "    <tr style=\"text-align: right;\">\n",
       "      <th></th>\n",
       "      <th>A</th>\n",
       "      <th>Street</th>\n",
       "      <th>EnterDt</th>\n",
       "      <th>PrintDt</th>\n",
       "      <th>ResolvDt</th>\n",
       "    </tr>\n",
       "  </thead>\n",
       "  <tbody>\n",
       "    <tr>\n",
       "      <th>65530</th>\n",
       "      <td>6300</td>\n",
       "      <td>W ARMITAGE AV</td>\n",
       "      <td>2012-01-12 06:16</td>\n",
       "      <td>2012-01-12 06:48</td>\n",
       "      <td>2012-01-24 05:32</td>\n",
       "    </tr>\n",
       "    <tr>\n",
       "      <th>65531</th>\n",
       "      <td>6000</td>\n",
       "      <td>W LINCOLN CREEK DR</td>\n",
       "      <td>2012-01-12 06:15</td>\n",
       "      <td>2012-01-12 06:48</td>\n",
       "      <td>2012-01-19 14:48</td>\n",
       "    </tr>\n",
       "    <tr>\n",
       "      <th>65532</th>\n",
       "      <td>6600</td>\n",
       "      <td>W CONSTANCE AV</td>\n",
       "      <td>2012-01-12 06:14</td>\n",
       "      <td>2012-01-12 06:48</td>\n",
       "      <td>2012-01-13 05:44</td>\n",
       "    </tr>\n",
       "    <tr>\n",
       "      <th>65533</th>\n",
       "      <td>6000</td>\n",
       "      <td>W LEON TR</td>\n",
       "      <td>2012-01-12 06:13</td>\n",
       "      <td>2012-01-12 06:48</td>\n",
       "      <td>2012-01-19 14:47</td>\n",
       "    </tr>\n",
       "    <tr>\n",
       "      <th>65534</th>\n",
       "      <td>5135</td>\n",
       "      <td>N 32ND ST</td>\n",
       "      <td>2012-01-12 06:12</td>\n",
       "      <td>2012-01-12 06:45</td>\n",
       "      <td>2012-01-18 06:29</td>\n",
       "    </tr>\n",
       "  </tbody>\n",
       "</table>\n",
       "</div>"
      ],
      "text/plain": [
       "          A              Street           EnterDt           PrintDt  \\\n",
       "65530  6300       W ARMITAGE AV  2012-01-12 06:16  2012-01-12 06:48   \n",
       "65531  6000  W LINCOLN CREEK DR  2012-01-12 06:15  2012-01-12 06:48   \n",
       "65532  6600      W CONSTANCE AV  2012-01-12 06:14  2012-01-12 06:48   \n",
       "65533  6000           W LEON TR  2012-01-12 06:13  2012-01-12 06:48   \n",
       "65534  5135           N 32ND ST  2012-01-12 06:12  2012-01-12 06:45   \n",
       "\n",
       "               ResolvDt  \n",
       "65530  2012-01-24 05:32  \n",
       "65531  2012-01-19 14:48  \n",
       "65532  2012-01-13 05:44  \n",
       "65533  2012-01-19 14:47  \n",
       "65534  2012-01-18 06:29  "
      ]
     },
     "execution_count": 8,
     "metadata": {},
     "output_type": "execute_result"
    }
   ],
   "source": [
    "df.tail()"
   ]
  },
  {
   "cell_type": "code",
   "execution_count": null,
   "metadata": {},
   "outputs": [],
   "source": []
  },
  {
   "cell_type": "code",
   "execution_count": null,
   "metadata": {},
   "outputs": [],
   "source": []
  },
  {
   "cell_type": "code",
   "execution_count": null,
   "metadata": {},
   "outputs": [],
   "source": []
  },
  {
   "cell_type": "code",
   "execution_count": 5,
   "metadata": {},
   "outputs": [
    {
     "data": {
      "text/plain": [
       "N 60TH ST           734\n",
       "W FOND DU LAC AV    731\n",
       "W LISBON AV         635\n",
       "W HAMPTON AV        633\n",
       "W MORGAN AV         582\n",
       "N TEUTONIA AV       537\n",
       "W CAPITOL DR        500\n",
       "N SHERMAN BL        466\n",
       "W CENTER ST         447\n",
       "W WISCONSIN AV      437\n",
       "W LOCUST ST         422\n",
       "W BURLEIGH ST       410\n",
       "N 27TH ST           399\n",
       "W VILLARD AV        390\n",
       "N 91ST ST           382\n",
       "S 60TH ST           359\n",
       "W OKLAHOMA AV       357\n",
       "W BRADLEY RD        333\n",
       "W HOWARD AV         332\n",
       "S 20TH ST           331\n",
       "N 37TH ST           327\n",
       "N 92ND ST           319\n",
       "N 53RD ST           318\n",
       "W FAIRMOUNT AV      316\n",
       "W CONGRESS ST       314\n",
       "W ROOSEVELT DR      310\n",
       "W KEEFE AV          303\n",
       "W LINCOLN AV        301\n",
       "N 41ST ST           300\n",
       "N 55TH ST           299\n",
       "                   ... \n",
       "W 19TH CT             1\n",
       "N FAIRWAY PL          1\n",
       "N CALLAHAN PL         1\n",
       "W SOMERS ST           1\n",
       "W DANA ST             1\n",
       "W DOROTHY PL          1\n",
       "S DAVIDSON ST         1\n",
       "W VICTORY LA          1\n",
       "W MC KINLEY CT        1\n",
       "W ASH ST              1\n",
       "W LYNNDALE AV         1\n",
       "E BURDICK AV          1\n",
       "E EDEN PL             1\n",
       "N 122ND ST            1\n",
       "E CLARENCE ST         1\n",
       "E CAROL ST            1\n",
       "S TAYLOR CT           1\n",
       "S 82ND CT             1\n",
       "N ARGONNE DR          1\n",
       "W MEADOWCREEK DR      1\n",
       "W WILSON DR           1\n",
       "W LYNX CT             1\n",
       "N WINDERMERE CT       1\n",
       "W POTAWATOMI CR       1\n",
       "W PRESIDIO LA         1\n",
       "W KERNEY PL           1\n",
       "W RUSKIN CT           1\n",
       "W WILBUR CT           1\n",
       "W MARGARET PL         1\n",
       "W CAPITOL PL          1\n",
       "Name: Street, Length: 1221, dtype: int64"
      ]
     },
     "execution_count": 5,
     "metadata": {},
     "output_type": "execute_result"
    }
   ],
   "source": [
    "df.Street.value_counts()"
   ]
  },
  {
   "cell_type": "code",
   "execution_count": null,
   "metadata": {},
   "outputs": [],
   "source": []
  }
 ],
 "metadata": {
  "kernelspec": {
   "display_name": "Python 3",
   "language": "python",
   "name": "python3"
  },
  "language_info": {
   "codemirror_mode": {
    "name": "ipython",
    "version": 3
   },
   "file_extension": ".py",
   "mimetype": "text/x-python",
   "name": "python",
   "nbconvert_exporter": "python",
   "pygments_lexer": "ipython3",
   "version": "3.7.1"
  }
 },
 "nbformat": 4,
 "nbformat_minor": 2
}
